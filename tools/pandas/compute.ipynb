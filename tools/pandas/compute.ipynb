{
 "cells": [
  {
   "cell_type": "code",
   "execution_count": 62,
   "metadata": {
    "collapsed": true
   },
   "outputs": [],
   "source": [
    "import pandas as pd"
   ]
  },
  {
   "cell_type": "code",
   "execution_count": 63,
   "metadata": {
    "collapsed": false
   },
   "outputs": [
    {
     "data": {
      "text/plain": [
       "0    0.101617\n",
       "1    1.617292\n",
       "2    0.351121\n",
       "3   -0.482487\n",
       "4   -0.714434\n",
       "5    1.799510\n",
       "6   -0.742576\n",
       "7    0.064619\n",
       "dtype: float64"
      ]
     },
     "execution_count": 63,
     "metadata": {},
     "output_type": "execute_result"
    }
   ],
   "source": [
    "ser = pd.Series(np.random.randn(8))\n",
    "ser"
   ]
  },
  {
   "cell_type": "code",
   "execution_count": 64,
   "metadata": {
    "collapsed": false
   },
   "outputs": [
    {
     "data": {
      "text/plain": [
       "0          NaN\n",
       "1    14.915574\n",
       "2    -0.782896\n",
       "3    -2.374136\n",
       "4     0.480730\n",
       "5    -3.518791\n",
       "6    -1.412655\n",
       "7    -1.087020\n",
       "dtype: float64"
      ]
     },
     "execution_count": 64,
     "metadata": {},
     "output_type": "execute_result"
    }
   ],
   "source": [
    "ser.pct_change()"
   ]
  },
  {
   "cell_type": "code",
   "execution_count": 66,
   "metadata": {
    "collapsed": false
   },
   "outputs": [
    {
     "data": {
      "text/html": [
       "<div>\n",
       "<table border=\"1\" class=\"dataframe\">\n",
       "  <thead>\n",
       "    <tr style=\"text-align: right;\">\n",
       "      <th></th>\n",
       "      <th>0</th>\n",
       "      <th>1</th>\n",
       "      <th>2</th>\n",
       "      <th>3</th>\n",
       "    </tr>\n",
       "  </thead>\n",
       "  <tbody>\n",
       "    <tr>\n",
       "      <th>0</th>\n",
       "      <td>0.758547</td>\n",
       "      <td>1.572829</td>\n",
       "      <td>-0.206779</td>\n",
       "      <td>-0.581155</td>\n",
       "    </tr>\n",
       "    <tr>\n",
       "      <th>1</th>\n",
       "      <td>0.683633</td>\n",
       "      <td>-1.928678</td>\n",
       "      <td>1.595867</td>\n",
       "      <td>-0.021600</td>\n",
       "    </tr>\n",
       "    <tr>\n",
       "      <th>2</th>\n",
       "      <td>-1.201346</td>\n",
       "      <td>0.495336</td>\n",
       "      <td>-0.763753</td>\n",
       "      <td>0.909544</td>\n",
       "    </tr>\n",
       "    <tr>\n",
       "      <th>3</th>\n",
       "      <td>-1.848820</td>\n",
       "      <td>0.836899</td>\n",
       "      <td>-0.577754</td>\n",
       "      <td>0.312890</td>\n",
       "    </tr>\n",
       "    <tr>\n",
       "      <th>4</th>\n",
       "      <td>0.886108</td>\n",
       "      <td>1.110916</td>\n",
       "      <td>0.572393</td>\n",
       "      <td>-0.087329</td>\n",
       "    </tr>\n",
       "    <tr>\n",
       "      <th>5</th>\n",
       "      <td>-0.800605</td>\n",
       "      <td>1.811627</td>\n",
       "      <td>-0.635520</td>\n",
       "      <td>-0.254343</td>\n",
       "    </tr>\n",
       "    <tr>\n",
       "      <th>6</th>\n",
       "      <td>1.140086</td>\n",
       "      <td>-2.591974</td>\n",
       "      <td>-0.024006</td>\n",
       "      <td>1.353904</td>\n",
       "    </tr>\n",
       "    <tr>\n",
       "      <th>7</th>\n",
       "      <td>-0.818021</td>\n",
       "      <td>-0.029209</td>\n",
       "      <td>-0.326760</td>\n",
       "      <td>0.932335</td>\n",
       "    </tr>\n",
       "    <tr>\n",
       "      <th>8</th>\n",
       "      <td>-0.291444</td>\n",
       "      <td>-0.075556</td>\n",
       "      <td>-0.274831</td>\n",
       "      <td>1.737282</td>\n",
       "    </tr>\n",
       "    <tr>\n",
       "      <th>9</th>\n",
       "      <td>-1.044972</td>\n",
       "      <td>1.436574</td>\n",
       "      <td>0.371152</td>\n",
       "      <td>-0.786729</td>\n",
       "    </tr>\n",
       "  </tbody>\n",
       "</table>\n",
       "</div>"
      ],
      "text/plain": [
       "          0         1         2         3\n",
       "0  0.758547  1.572829 -0.206779 -0.581155\n",
       "1  0.683633 -1.928678  1.595867 -0.021600\n",
       "2 -1.201346  0.495336 -0.763753  0.909544\n",
       "3 -1.848820  0.836899 -0.577754  0.312890\n",
       "4  0.886108  1.110916  0.572393 -0.087329\n",
       "5 -0.800605  1.811627 -0.635520 -0.254343\n",
       "6  1.140086 -2.591974 -0.024006  1.353904\n",
       "7 -0.818021 -0.029209 -0.326760  0.932335\n",
       "8 -0.291444 -0.075556 -0.274831  1.737282\n",
       "9 -1.044972  1.436574  0.371152 -0.786729"
      ]
     },
     "execution_count": 66,
     "metadata": {},
     "output_type": "execute_result"
    }
   ],
   "source": [
    "df = pd.DataFrame(np.random.randn(10, 4))\n",
    "df"
   ]
  },
  {
   "cell_type": "code",
   "execution_count": 67,
   "metadata": {
    "collapsed": false
   },
   "outputs": [
    {
     "data": {
      "text/html": [
       "<div>\n",
       "<table border=\"1\" class=\"dataframe\">\n",
       "  <thead>\n",
       "    <tr style=\"text-align: right;\">\n",
       "      <th></th>\n",
       "      <th>0</th>\n",
       "      <th>1</th>\n",
       "      <th>2</th>\n",
       "      <th>3</th>\n",
       "    </tr>\n",
       "  </thead>\n",
       "  <tbody>\n",
       "    <tr>\n",
       "      <th>0</th>\n",
       "      <td>NaN</td>\n",
       "      <td>NaN</td>\n",
       "      <td>NaN</td>\n",
       "      <td>NaN</td>\n",
       "    </tr>\n",
       "    <tr>\n",
       "      <th>1</th>\n",
       "      <td>NaN</td>\n",
       "      <td>NaN</td>\n",
       "      <td>NaN</td>\n",
       "      <td>NaN</td>\n",
       "    </tr>\n",
       "    <tr>\n",
       "      <th>2</th>\n",
       "      <td>NaN</td>\n",
       "      <td>NaN</td>\n",
       "      <td>NaN</td>\n",
       "      <td>NaN</td>\n",
       "    </tr>\n",
       "    <tr>\n",
       "      <th>3</th>\n",
       "      <td>-3.437318</td>\n",
       "      <td>-0.467902</td>\n",
       "      <td>1.794058</td>\n",
       "      <td>-1.538393</td>\n",
       "    </tr>\n",
       "    <tr>\n",
       "      <th>4</th>\n",
       "      <td>0.296175</td>\n",
       "      <td>-1.575999</td>\n",
       "      <td>-0.641328</td>\n",
       "      <td>3.042935</td>\n",
       "    </tr>\n",
       "    <tr>\n",
       "      <th>5</th>\n",
       "      <td>-0.333576</td>\n",
       "      <td>2.657370</td>\n",
       "      <td>-0.167899</td>\n",
       "      <td>-1.279638</td>\n",
       "    </tr>\n",
       "    <tr>\n",
       "      <th>6</th>\n",
       "      <td>-1.616656</td>\n",
       "      <td>-4.097117</td>\n",
       "      <td>-0.958449</td>\n",
       "      <td>3.327092</td>\n",
       "    </tr>\n",
       "    <tr>\n",
       "      <th>7</th>\n",
       "      <td>-1.923162</td>\n",
       "      <td>-1.026293</td>\n",
       "      <td>-1.570868</td>\n",
       "      <td>-11.676069</td>\n",
       "    </tr>\n",
       "    <tr>\n",
       "      <th>8</th>\n",
       "      <td>-0.635970</td>\n",
       "      <td>-1.041706</td>\n",
       "      <td>-0.567549</td>\n",
       "      <td>-7.830470</td>\n",
       "    </tr>\n",
       "    <tr>\n",
       "      <th>9</th>\n",
       "      <td>-1.916573</td>\n",
       "      <td>-1.554239</td>\n",
       "      <td>-16.460698</td>\n",
       "      <td>-1.581082</td>\n",
       "    </tr>\n",
       "  </tbody>\n",
       "</table>\n",
       "</div>"
      ],
      "text/plain": [
       "          0         1          2          3\n",
       "0       NaN       NaN        NaN        NaN\n",
       "1       NaN       NaN        NaN        NaN\n",
       "2       NaN       NaN        NaN        NaN\n",
       "3 -3.437318 -0.467902   1.794058  -1.538393\n",
       "4  0.296175 -1.575999  -0.641328   3.042935\n",
       "5 -0.333576  2.657370  -0.167899  -1.279638\n",
       "6 -1.616656 -4.097117  -0.958449   3.327092\n",
       "7 -1.923162 -1.026293  -1.570868 -11.676069\n",
       "8 -0.635970 -1.041706  -0.567549  -7.830470\n",
       "9 -1.916573 -1.554239 -16.460698  -1.581082"
      ]
     },
     "execution_count": 67,
     "metadata": {},
     "output_type": "execute_result"
    }
   ],
   "source": [
    "df.pct_change(periods=3)"
   ]
  },
  {
   "cell_type": "code",
   "execution_count": 68,
   "metadata": {
    "collapsed": false
   },
   "outputs": [
    {
     "data": {
      "text/plain": [
       "-0.0080317625662542289"
      ]
     },
     "execution_count": 68,
     "metadata": {},
     "output_type": "execute_result"
    }
   ],
   "source": [
    "s1 = pd.Series(np.random.randn(1000))\n",
    "s2 = pd.Series(np.random.randn(1000))\n",
    "s1.cov(s2)"
   ]
  },
  {
   "cell_type": "code",
   "execution_count": 70,
   "metadata": {
    "collapsed": false
   },
   "outputs": [
    {
     "data": {
      "text/html": [
       "<div>\n",
       "<table border=\"1\" class=\"dataframe\">\n",
       "  <thead>\n",
       "    <tr style=\"text-align: right;\">\n",
       "      <th></th>\n",
       "      <th>a</th>\n",
       "      <th>b</th>\n",
       "      <th>c</th>\n",
       "      <th>d</th>\n",
       "      <th>e</th>\n",
       "    </tr>\n",
       "  </thead>\n",
       "  <tbody>\n",
       "    <tr>\n",
       "      <th>a</th>\n",
       "      <td>0.993983</td>\n",
       "      <td>-0.000982</td>\n",
       "      <td>-0.049722</td>\n",
       "      <td>0.038055</td>\n",
       "      <td>-0.012102</td>\n",
       "    </tr>\n",
       "    <tr>\n",
       "      <th>b</th>\n",
       "      <td>-0.000982</td>\n",
       "      <td>1.023699</td>\n",
       "      <td>-0.009515</td>\n",
       "      <td>-0.050129</td>\n",
       "      <td>-0.049312</td>\n",
       "    </tr>\n",
       "    <tr>\n",
       "      <th>c</th>\n",
       "      <td>-0.049722</td>\n",
       "      <td>-0.009515</td>\n",
       "      <td>0.995888</td>\n",
       "      <td>-0.027740</td>\n",
       "      <td>0.035034</td>\n",
       "    </tr>\n",
       "    <tr>\n",
       "      <th>d</th>\n",
       "      <td>0.038055</td>\n",
       "      <td>-0.050129</td>\n",
       "      <td>-0.027740</td>\n",
       "      <td>0.985661</td>\n",
       "      <td>-0.058868</td>\n",
       "    </tr>\n",
       "    <tr>\n",
       "      <th>e</th>\n",
       "      <td>-0.012102</td>\n",
       "      <td>-0.049312</td>\n",
       "      <td>0.035034</td>\n",
       "      <td>-0.058868</td>\n",
       "      <td>1.075261</td>\n",
       "    </tr>\n",
       "  </tbody>\n",
       "</table>\n",
       "</div>"
      ],
      "text/plain": [
       "          a         b         c         d         e\n",
       "a  0.993983 -0.000982 -0.049722  0.038055 -0.012102\n",
       "b -0.000982  1.023699 -0.009515 -0.050129 -0.049312\n",
       "c -0.049722 -0.009515  0.995888 -0.027740  0.035034\n",
       "d  0.038055 -0.050129 -0.027740  0.985661 -0.058868\n",
       "e -0.012102 -0.049312  0.035034 -0.058868  1.075261"
      ]
     },
     "execution_count": 70,
     "metadata": {},
     "output_type": "execute_result"
    }
   ],
   "source": [
    "frame = pd.DataFrame(np.random.randn(1000, 5), columns=['a', 'b', 'c', 'd', 'e'])\n",
    "frame.cov()"
   ]
  },
  {
   "cell_type": "code",
   "execution_count": 71,
   "metadata": {
    "collapsed": false
   },
   "outputs": [
    {
     "data": {
      "text/html": [
       "<div>\n",
       "<table border=\"1\" class=\"dataframe\">\n",
       "  <thead>\n",
       "    <tr style=\"text-align: right;\">\n",
       "      <th></th>\n",
       "      <th>a</th>\n",
       "      <th>b</th>\n",
       "      <th>c</th>\n",
       "      <th>d</th>\n",
       "      <th>e</th>\n",
       "    </tr>\n",
       "  </thead>\n",
       "  <tbody>\n",
       "    <tr>\n",
       "      <th>a</th>\n",
       "      <td>0.990749</td>\n",
       "      <td>-0.002108</td>\n",
       "      <td>-0.048960</td>\n",
       "      <td>0.037775</td>\n",
       "      <td>-0.013064</td>\n",
       "    </tr>\n",
       "    <tr>\n",
       "      <th>b</th>\n",
       "      <td>-0.002108</td>\n",
       "      <td>1.018605</td>\n",
       "      <td>-0.008848</td>\n",
       "      <td>-0.043094</td>\n",
       "      <td>-0.046180</td>\n",
       "    </tr>\n",
       "    <tr>\n",
       "      <th>c</th>\n",
       "      <td>-0.048960</td>\n",
       "      <td>-0.008848</td>\n",
       "      <td>0.995888</td>\n",
       "      <td>-0.027740</td>\n",
       "      <td>0.035034</td>\n",
       "    </tr>\n",
       "    <tr>\n",
       "      <th>d</th>\n",
       "      <td>0.037775</td>\n",
       "      <td>-0.043094</td>\n",
       "      <td>-0.027740</td>\n",
       "      <td>0.985661</td>\n",
       "      <td>-0.058868</td>\n",
       "    </tr>\n",
       "    <tr>\n",
       "      <th>e</th>\n",
       "      <td>-0.013064</td>\n",
       "      <td>-0.046180</td>\n",
       "      <td>0.035034</td>\n",
       "      <td>-0.058868</td>\n",
       "      <td>1.075261</td>\n",
       "    </tr>\n",
       "  </tbody>\n",
       "</table>\n",
       "</div>"
      ],
      "text/plain": [
       "          a         b         c         d         e\n",
       "a  0.990749 -0.002108 -0.048960  0.037775 -0.013064\n",
       "b -0.002108  1.018605 -0.008848 -0.043094 -0.046180\n",
       "c -0.048960 -0.008848  0.995888 -0.027740  0.035034\n",
       "d  0.037775 -0.043094 -0.027740  0.985661 -0.058868\n",
       "e -0.013064 -0.046180  0.035034 -0.058868  1.075261"
      ]
     },
     "execution_count": 71,
     "metadata": {},
     "output_type": "execute_result"
    }
   ],
   "source": [
    "frame.ix[:5, 'a'] = np.nan\n",
    "frame.ix[5:10, 'b'] = np.nan\n",
    "frame.cov()"
   ]
  },
  {
   "cell_type": "code",
   "execution_count": 72,
   "metadata": {
    "collapsed": false
   },
   "outputs": [
    {
     "data": {
      "text/html": [
       "<div>\n",
       "<table border=\"1\" class=\"dataframe\">\n",
       "  <thead>\n",
       "    <tr style=\"text-align: right;\">\n",
       "      <th></th>\n",
       "      <th>a</th>\n",
       "      <th>b</th>\n",
       "      <th>c</th>\n",
       "      <th>d</th>\n",
       "      <th>e</th>\n",
       "    </tr>\n",
       "  </thead>\n",
       "  <tbody>\n",
       "    <tr>\n",
       "      <th>a</th>\n",
       "      <td>0.990749</td>\n",
       "      <td>-0.002108</td>\n",
       "      <td>-0.048960</td>\n",
       "      <td>0.037775</td>\n",
       "      <td>-0.013064</td>\n",
       "    </tr>\n",
       "    <tr>\n",
       "      <th>b</th>\n",
       "      <td>-0.002108</td>\n",
       "      <td>1.018605</td>\n",
       "      <td>-0.008848</td>\n",
       "      <td>-0.043094</td>\n",
       "      <td>-0.046180</td>\n",
       "    </tr>\n",
       "    <tr>\n",
       "      <th>c</th>\n",
       "      <td>-0.048960</td>\n",
       "      <td>-0.008848</td>\n",
       "      <td>0.995888</td>\n",
       "      <td>-0.027740</td>\n",
       "      <td>0.035034</td>\n",
       "    </tr>\n",
       "    <tr>\n",
       "      <th>d</th>\n",
       "      <td>0.037775</td>\n",
       "      <td>-0.043094</td>\n",
       "      <td>-0.027740</td>\n",
       "      <td>0.985661</td>\n",
       "      <td>-0.058868</td>\n",
       "    </tr>\n",
       "    <tr>\n",
       "      <th>e</th>\n",
       "      <td>-0.013064</td>\n",
       "      <td>-0.046180</td>\n",
       "      <td>0.035034</td>\n",
       "      <td>-0.058868</td>\n",
       "      <td>1.075261</td>\n",
       "    </tr>\n",
       "  </tbody>\n",
       "</table>\n",
       "</div>"
      ],
      "text/plain": [
       "          a         b         c         d         e\n",
       "a  0.990749 -0.002108 -0.048960  0.037775 -0.013064\n",
       "b -0.002108  1.018605 -0.008848 -0.043094 -0.046180\n",
       "c -0.048960 -0.008848  0.995888 -0.027740  0.035034\n",
       "d  0.037775 -0.043094 -0.027740  0.985661 -0.058868\n",
       "e -0.013064 -0.046180  0.035034 -0.058868  1.075261"
      ]
     },
     "execution_count": 72,
     "metadata": {},
     "output_type": "execute_result"
    }
   ],
   "source": [
    "frame.cov(min_periods=12)"
   ]
  },
  {
   "cell_type": "code",
   "execution_count": 73,
   "metadata": {
    "collapsed": false
   },
   "outputs": [
    {
     "data": {
      "text/html": [
       "<div>\n",
       "<table border=\"1\" class=\"dataframe\">\n",
       "  <thead>\n",
       "    <tr style=\"text-align: right;\">\n",
       "      <th></th>\n",
       "      <th>a</th>\n",
       "      <th>b</th>\n",
       "      <th>c</th>\n",
       "      <th>d</th>\n",
       "      <th>e</th>\n",
       "    </tr>\n",
       "  </thead>\n",
       "  <tbody>\n",
       "    <tr>\n",
       "      <th>a</th>\n",
       "      <td>1.000000</td>\n",
       "      <td>0.048670</td>\n",
       "      <td>0.010194</td>\n",
       "      <td>0.025541</td>\n",
       "      <td>-0.013940</td>\n",
       "    </tr>\n",
       "    <tr>\n",
       "      <th>b</th>\n",
       "      <td>0.048670</td>\n",
       "      <td>1.000000</td>\n",
       "      <td>-0.048526</td>\n",
       "      <td>-0.046426</td>\n",
       "      <td>-0.000069</td>\n",
       "    </tr>\n",
       "    <tr>\n",
       "      <th>c</th>\n",
       "      <td>0.010194</td>\n",
       "      <td>-0.048526</td>\n",
       "      <td>1.000000</td>\n",
       "      <td>-0.048307</td>\n",
       "      <td>0.097344</td>\n",
       "    </tr>\n",
       "    <tr>\n",
       "      <th>d</th>\n",
       "      <td>0.025541</td>\n",
       "      <td>-0.046426</td>\n",
       "      <td>-0.048307</td>\n",
       "      <td>1.000000</td>\n",
       "      <td>-0.047994</td>\n",
       "    </tr>\n",
       "    <tr>\n",
       "      <th>e</th>\n",
       "      <td>-0.013940</td>\n",
       "      <td>-0.000069</td>\n",
       "      <td>0.097344</td>\n",
       "      <td>-0.047994</td>\n",
       "      <td>1.000000</td>\n",
       "    </tr>\n",
       "  </tbody>\n",
       "</table>\n",
       "</div>"
      ],
      "text/plain": [
       "          a         b         c         d         e\n",
       "a  1.000000  0.048670  0.010194  0.025541 -0.013940\n",
       "b  0.048670  1.000000 -0.048526 -0.046426 -0.000069\n",
       "c  0.010194 -0.048526  1.000000 -0.048307  0.097344\n",
       "d  0.025541 -0.046426 -0.048307  1.000000 -0.047994\n",
       "e -0.013940 -0.000069  0.097344 -0.047994  1.000000"
      ]
     },
     "execution_count": 73,
     "metadata": {},
     "output_type": "execute_result"
    }
   ],
   "source": [
    "frame = pd.DataFrame(np.random.randn(1000, 5), columns=['a', 'b', 'c', 'd', 'e'])\n",
    "frame.ix[::2] = np.nan\n",
    "frame['a'].corr(frame['b'])\n",
    "frame['a'].corr(frame['b'], method='spearman')\n",
    "frame.corr()"
   ]
  },
  {
   "cell_type": "code",
   "execution_count": 74,
   "metadata": {
    "collapsed": false
   },
   "outputs": [
    {
     "data": {
      "text/plain": [
       "a    0.629566\n",
       "b    0.385892\n",
       "c    1.416837\n",
       "d    0.385892\n",
       "e    1.079616\n",
       "dtype: float64"
      ]
     },
     "execution_count": 74,
     "metadata": {},
     "output_type": "execute_result"
    }
   ],
   "source": [
    "s = pd.Series(np.random.np.random.randn(5), index=list('abcde'))\n",
    "\n",
    "s['d'] = s['b'] # so there's a tie\n",
    "s"
   ]
  },
  {
   "cell_type": "code",
   "execution_count": 75,
   "metadata": {
    "collapsed": false
   },
   "outputs": [
    {
     "data": {
      "text/plain": [
       "a    3.0\n",
       "b    1.5\n",
       "c    5.0\n",
       "d    1.5\n",
       "e    4.0\n",
       "dtype: float64"
      ]
     },
     "execution_count": 75,
     "metadata": {},
     "output_type": "execute_result"
    }
   ],
   "source": [
    "s.rank()"
   ]
  },
  {
   "cell_type": "code",
   "execution_count": 76,
   "metadata": {
    "collapsed": true
   },
   "outputs": [],
   "source": [
    "df = pd.DataFrame(np.random.np.random.randn(10, 6))"
   ]
  },
  {
   "cell_type": "code",
   "execution_count": 79,
   "metadata": {
    "collapsed": false
   },
   "outputs": [
    {
     "data": {
      "text/plain": [
       "0   -1.103880\n",
       "1    0.772260\n",
       "2    1.375156\n",
       "3    1.224790\n",
       "4    0.965105\n",
       "Name: 2, dtype: float64"
      ]
     },
     "execution_count": 79,
     "metadata": {},
     "output_type": "execute_result"
    }
   ],
   "source": [
    "df[2][:5]"
   ]
  },
  {
   "cell_type": "code",
   "execution_count": null,
   "metadata": {
    "collapsed": true
   },
   "outputs": [],
   "source": []
  }
 ],
 "metadata": {
  "kernelspec": {
   "display_name": "Python 2",
   "language": "python",
   "name": "python2"
  },
  "language_info": {
   "codemirror_mode": {
    "name": "ipython",
    "version": 2
   },
   "file_extension": ".py",
   "mimetype": "text/x-python",
   "name": "python",
   "nbconvert_exporter": "python",
   "pygments_lexer": "ipython2",
   "version": "2.7.12"
  }
 },
 "nbformat": 4,
 "nbformat_minor": 2
}
